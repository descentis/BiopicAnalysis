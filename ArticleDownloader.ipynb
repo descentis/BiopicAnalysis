{
 "cells": [
  {
   "cell_type": "code",
   "execution_count": 36,
   "metadata": {},
   "outputs": [],
   "source": [
    "import json\n",
    "import xmltodict\n",
    "from converter.wikiConverter import wikiConverter"
   ]
  },
  {
   "cell_type": "code",
   "execution_count": 4,
   "metadata": {},
   "outputs": [],
   "source": [
    "di = {}\n",
    "with open('MovieDetails.json') as f:\n",
    "    di = json.loads(f.read())\n",
    "movies = list(di.keys())"
   ]
  },
  {
   "cell_type": "code",
   "execution_count": 46,
   "metadata": {},
   "outputs": [
    {
     "name": "stdout",
     "output_type": "stream",
     "text": [
      "Downloading Casino_Jack...\n",
      "Casino_Jack Completed!\n"
     ]
    }
   ],
   "source": [
    "name, url = movies[7].split(\"||\")\n",
    "url = url[6:]\n",
    "wikiConverter.getArticle(file_name = url, output_dir='wiki')"
   ]
  },
  {
   "cell_type": "code",
   "execution_count": 47,
   "metadata": {},
   "outputs": [],
   "source": [
    "article = xmltodict.parse(open('./wiki/'+url+'.xml',\"r\").read())\n",
    "revisions = article['mediawiki']['page']['revision'][-1]['text']['#text']"
   ]
  },
  {
   "cell_type": "code",
   "execution_count": 48,
   "metadata": {},
   "outputs": [
    {
     "name": "stdout",
     "output_type": "stream",
     "text": [
      "{{About|the drama starring Kevin Spacey|the Alex Gibney documentary|Casino Jack and the United States of Money}}\n",
      "{{Infobox film\n",
      "| name = Casino Jack\n",
      "| image = Casino Jack.jpg\n",
      "| border = yes\n",
      "| caption = \n",
      "| director = [[George Hickenlooper]]\n",
      "| producer = Gary Howsam<br />Bill Marks<br />George Zakk\n",
      "| writer = [[Norman Snider]]\n",
      "| starring = [[Kevin Spacey]]<br />[[Barry Pepper]]<br />[[Rachelle Lefevre]]<br />[[Kelly Preston]]<br />[[Jon Lovitz]]<br />[[Maury Chaykin]]\n",
      "| music = [[Jonathan Goldsmith (musician)|Jonathan Goldsmith]]\n",
      "| cinematography = Adam Swica\n",
      "| editing = William Steinkamp\n",
      "| studio = Hannibal Pictures<br />Rollercoaster Entertainment\n",
      "| distributor = Art Takes Over Films (ATO)\n",
      "| released = {{Film date|2010|9|16|[[2010 Toronto International Film Festival|TIFF]]|2011|01|28|Canada}}\n",
      "| runtime = 108 minutes\n",
      "| country = Canada<ref>{{cite news|url=http://www.hollywoodreporter.com/review/casino-jack-film-review-30005|accessdate=February 18, 2011|title=Casino Jack -- Film Review by Michael Rechtshaffen|publisher=thehollywoodreporter.com|date=October 14, 2010}}</ref>\n",
      "| language = English\n",
      "| budget = $12.5 million\n",
      "| gross = $1.1 million<ref>{{cite web|url=http://www.boxofficemojo.com/movies/?id=casinojack2.htm |title=Casino Jack (2010) |publisher=Box Office Mojo |date=2011-04-07 |accessdate=2016-07-27}}</ref>\n",
      "}}\n",
      "'''''Casino Jack''''' (known in certain territories as '''''Bagman''''') is a 2010 [[comedy-drama]] [[thriller film]] directed by [[George Hickenlooper]] and starring [[Kevin Spacey]].  The film focuses on the career of [[Washington, D.C.]] lobbyist and businessman [[Jack Abramoff]], who was involved in a massive [[Jack Abramoff Indian lobbying scandal|corruption scandal]] that led to his conviction as well as the conviction of two [[White House]] officials, [[United States House of Representatives|Rep.]] [[Bob Ney]], and nine other lobbyists and congressional staffers. Abramoff was convicted of [[fraud]], [[Conspiracy (crime)|conspiracy]] and [[tax evasion]] in 2006,<ref>[https://www.bloomberg.com/apps/news?pid=newsarchive&sid=aDq6Gy_i0shA&refer=top_world_news-redirectoldpage Abramoff Pleads Guilty, Will Help in Corruption Probe] {{webarchive |url=https://web.archive.org/web/20131229181500/http://www.bloomberg.com/apps/news?pid=newsarchive&sid=aDq6Gy_i0shA&refer=top_world_news-redirectoldpage |date=December 29, 2013 }}</ref> and of trading expensive gifts, meals and sports trips in exchange for political favors.<ref>{{cite web|url=http://news.bbc.co.uk/2/hi/americas/7599249.stm |title=US lobbyist jailed for corruption |publisher=BBC News |date=2008-09-04 |accessdate=2016-07-27}}</ref><ref>{{cite web|url=https://www.washingtonpost.com/wp-dyn/content/article/2008/09/04/AR2008090402321.html?hpid=topnews |title=Abramoff Gets Reduced Sentence of Four Years in Prison |publisher=Washingtonpost.com |date= |accessdate=2016-07-27}}</ref>  \n",
      "Abramoff served three and a half years of a six-year sentence in federal prison, and was then assigned to a [[halfway house]]. He was released on December 3, 2010.\n",
      "\n",
      "Spacey was nominated for a [[Golden Globe Award for Best Actor – Motion Picture Musical or Comedy]] for his portrayal of Abramoff, eventually losing to [[Paul Giamatti]] for his role in ''[[Barney's Version (film)|Barney's Version]]''.<ref>[http://awards.omg.yahoo.com/nominees/341-kevin-spacey Kevin Spacey] {{webarchive |url=https://web.archive.org/web/20110812023548/http://awards.omg.yahoo.com/nominees/341-kevin-spacey |date=August 12, 2011 }}</ref>\n",
      "\n",
      "==Plot==\n",
      "{{more plot|date=October 2015}}\n",
      "A hot shot Washington DC lobbyist and his protégé go down hard as their schemes to peddle influence lead to corruption and murder.\n",
      "\n",
      "==Cast==\n",
      "{{Cast listing|\n",
      "* [[Kevin Spacey]] as [[Jack Abramoff]]\n",
      "* [[Kelly Preston]] as Pam Abramoff\n",
      "* [[Rachelle Lefevre]] as [[Emily J. Miller]]\n",
      "* [[Barry Pepper]] as [[Michael Scanlon]]\n",
      "* [[Jon Lovitz]] as [[Adam Kidan]]\n",
      "* [[John David Whalen]] as [[Kevin A. Ring]]\n",
      "* [[Yannick Bisson]] as Oscar Carillo\n",
      "* [[Graham Greene (actor)|Graham Greene]] as Bernie Sprague\n",
      "* [[Eric Schweig]] as Chief Poncho\n",
      "* [[Maury Chaykin]] as Big Tony\n",
      "* [[Christian Campbell]] as [[Ralph E. Reed, Jr.|Ralph Reed]]\n",
      "* [[Spencer Garrett]] as [[Tom DeLay]]\n",
      "* [[Joe Pingue]] as Anthony Ferrari\n",
      "* [[David Fraser (screenwriter)|David Fraser]] as [[Karl Rove]]\n",
      "* Jeffrey R. Smith as [[Grover Norquist]]\n",
      "* [[Daniel Kash]] as [[Gus Boulis]]\n",
      "* [[Conrad Pla]] as Agent Hanley\n",
      "* Hannah Endicott-Douglas as Sarah Abramoff\n",
      "* [[Ruth Marshall]] as [[Susan Schmidt]]\n",
      "* Reid Morgan as Brian Mann\n",
      "* [[Duke Redbird]] as Senator Nighthorse\n",
      "}}\n",
      "\n",
      "==Production==\n",
      "[[File:GeorgeHickenlooperOct10.jpg|thumb|right|Director [[George Hickenlooper]] at the film's screening during the 18th Annual [[Hamptons International Film Festival]] on October 8, 2010 in [[East Hampton (town), New York|East Hampton, New York]].]]\n",
      "Filming took place in June 2009 in various locations across [[Hamilton, Ontario]], Canada, including [[McMaster University]] and downtown Hamilton. The film was scheduled for release in December 2010 and premiered at the [[Toronto International Film Festival]].<ref name=Evans2010>{{Citation | title = Casino Jack premiere photos - 35th Toronto International Film Festival | url = http://www.digitalhit.com/galleries/38/570/ | year = 2010 | author = Evans, Ian | journal = DigitalHit.com | accessdate = 2012-04-10\n",
      "}}</ref>\n",
      "\n",
      "This was Hickenlooper's final film. He died on October 29, 2010, seven weeks before its scheduled December 17, 2010, national opening.<ref>{{cite web|url=http://abcnews.go.com/Entertainment/wireStory?id=12013881 |title=Entertainment News, Celebrity Interviews and Pop Culture - ABC News |publisher=Abcnews.go.com |date= |accessdate=2012-12-16}}</ref>\n",
      "\n",
      "==Reception==\n",
      "''Casino Jack'' received mixed reviews from critics. On [[Rotten Tomatoes]], the film has a rating of 39%, based on 97 reviews, with an average rating of 5.4/10. The website's critical consensus reads, \"Kevin Spacey turns in one of his stronger performances, but ''Casino Jack'' is a disappointingly uneven fictionalized account of a fascinating true story.\"<ref>{{cite web |url=https://www.rottentomatoes.com/m/casino_jack? |title=Casino Jack (2010) |work=[[Rotten Tomatoes]] |publisher=[[Fandango (company)|Fandango Media]] |accessdate=March 16, 2018}}</ref> On [[Metacritic]], the film has a score of 51 out of 100, based on 24 critics, indicating \"mixed or average reviews\".<ref>{{cite web|url=http://www.metacritic.com/movie/casino-jack |title=Casino Jack Reviews |publisher=[[CBS Interactive]] |work=[[Metacritic]] |accessdate=2016-07-27}}</ref>\n",
      "\n",
      "[[Roger Ebert]] gave the film three out of four stars, stating that \"''Casino Jack'' is so forthright, it is stunning.\"<ref>{{cite news| url=https://www.rogerebert.com/reviews/casino-jack-2010 | work=RogerEbert.com |publisher=Ebert Digital LLC |last=Ebert |first=Roger |authorlink= Roger Ebert | title=Casino Jack}}</ref>\n",
      "\n",
      "==References==\n",
      "{{Reflist}}\n",
      "\n",
      "==External links==\n",
      "* {{Allrovi movie|489079}}\n",
      "* {{mojo title|casinojack2}}\n",
      "* {{IMDb title|1194417}}\n",
      "* {{Metacritic film|casino-jack}}\n",
      "* {{rotten-tomatoes|casino-jack}}\n",
      "* [https://web.archive.org/web/20100311200321/http://hannibalpictures.com/feature.php?movie=2022 ''Casino Jack''] production website at Hannibal Pictures\n",
      "\n",
      "{{George Hickenlooper}}\n",
      "{{Jack Abramoff}}\n",
      "\n",
      "[[Category:Canadian films]]\n",
      "[[Category:2010 films]]\n",
      "[[Category:Canadian comedy films]]\n",
      "[[Category:2010s comedy films]]\n",
      "[[Category:Docudramas]]\n",
      "[[Category:English-language films]]\n",
      "[[Category:Films set in the 1990s]]\n",
      "[[Category:Films set in the 2000s]]\n",
      "[[Category:Films set in Washington, D.C.]]\n",
      "[[Category:Canadian biographical films]]\n",
      "[[Category:Films shot in Ontario]]\n",
      "[[Category:Political satire films]]\n",
      "[[Category:Films about con artists]]\n",
      "[[Category:Canadian satirical films]]\n",
      "[[Category:Fraud in fiction]]\n",
      "\n",
      "\n",
      "\n",
      "[[fi:Casino Jack]]\n"
     ]
    }
   ],
   "source": [
    "print(revisions)"
   ]
  },
  {
   "cell_type": "code",
   "execution_count": null,
   "metadata": {},
   "outputs": [],
   "source": []
  }
 ],
 "metadata": {
  "kernelspec": {
   "display_name": "Python 3",
   "language": "python",
   "name": "python3"
  },
  "language_info": {
   "codemirror_mode": {
    "name": "ipython",
    "version": 3
   },
   "file_extension": ".py",
   "mimetype": "text/x-python",
   "name": "python",
   "nbconvert_exporter": "python",
   "pygments_lexer": "ipython3",
   "version": "3.7.1"
  }
 },
 "nbformat": 4,
 "nbformat_minor": 2
}
