{
 "cells": [
  {
   "cell_type": "code",
   "execution_count": 1,
   "metadata": {},
   "outputs": [],
   "source": [
    "import requests\n",
    "from bs4 import BeautifulSoup"
   ]
  },
  {
   "cell_type": "code",
   "execution_count": 2,
   "metadata": {},
   "outputs": [],
   "source": [
    "url = \"https://en.wikipedia.org/wiki/List_of_biographical_films#2010s\"\n",
    "page = requests.get(url)"
   ]
  },
  {
   "cell_type": "code",
   "execution_count": 3,
   "metadata": {},
   "outputs": [],
   "source": [
    "soup = BeautifulSoup(page.text, 'html5lib')"
   ]
  },
  {
   "cell_type": "code",
   "execution_count": 4,
   "metadata": {},
   "outputs": [],
   "source": [
    "path = soup.find(\"div\", {\"id\" : \"content\"}).find(\"div\", {\"id\" : \"bodyContent\"}).find(\"div\", {\"id\" : \"mw-content-text\"}).find(\"div\", {\"class\" : \"mw-parser-output\"})\n",
    "tables = path.findAll(\"table\")"
   ]
  },
  {
   "cell_type": "code",
   "execution_count": 5,
   "metadata": {},
   "outputs": [],
   "source": [
    "table = tables[7].tbody"
   ]
  },
  {
   "cell_type": "code",
   "execution_count": 14,
   "metadata": {},
   "outputs": [],
   "source": [
    "xyz = []\n",
    "rows = table.find_all('tr')\n",
    "for row in rows:\n",
    "    cols = row.find_all('td')\n",
    "    data = [ele.text.strip() for ele in cols if ele]\n",
    "    addr = []\n",
    "    for ele in cols :\n",
    "        try :\n",
    "            addr.append(ele.find(\"a\")[\"href\"])\n",
    "        except :\n",
    "            addr.append(None)\n",
    "    tup = (data, addr)\n",
    "    xyz.append(tup)"
   ]
  },
  {
   "cell_type": "code",
   "execution_count": 38,
   "metadata": {},
   "outputs": [],
   "source": [
    "di = {}\n",
    "for item in xyz[1:] :\n",
    "    x = item[0]\n",
    "    url = item[1]\n",
    "    if len(x) == 2 :\n",
    "        temp = { x[0] + \"||\" + str(url[0]) : x[1] + \"||\" + str(url[1]) }\n",
    "        di[movie].append(temp)\n",
    "    else :\n",
    "        movie = x[-3]+\"||\" + str(url[-3])\n",
    "        di[movie] = []\n",
    "        temp = {x[-2] + \"||\" + str(url[-2]) : x[-1] + \"||\" + str(url[-1])}\n",
    "        di[movie].append(temp)"
   ]
  },
  {
   "cell_type": "code",
   "execution_count": 39,
   "metadata": {},
   "outputs": [],
   "source": [
    "arr = list(di.keys())"
   ]
  },
  {
   "cell_type": "code",
   "execution_count": 40,
   "metadata": {},
   "outputs": [
    {
     "name": "stdout",
     "output_type": "stream",
     "text": [
      "The Kennedys||/wiki/The_Kennedys_(TV_miniseries) [{'John F. Kennedy||/wiki/John_F._Kennedy': 'Greg Kinnear||/wiki/Greg_Kinnear'}, {'Robert F. Kennedy||/wiki/Robert_F._Kennedy': 'Barry Pepper||/wiki/Barry_Pepper'}, {'Jackie Kennedy||/wiki/Jackie_Kennedy': 'Katie Holmes||/wiki/Katie_Holmes'}, {'Joseph P. Kennedy, Sr.||/wiki/Joseph_P._Kennedy,_Sr.': 'Tom Wilkinson||/wiki/Tom_Wilkinson'}]\n"
     ]
    }
   ],
   "source": [
    "index = arr[78]\n",
    "details = di[index]\n",
    "print(index, details)"
   ]
  },
  {
   "cell_type": "code",
   "execution_count": 41,
   "metadata": {},
   "outputs": [],
   "source": [
    "import json\n",
    "with open(\"MovieDetails.json\", \"w+\") as f :\n",
    "    json.dump(di, f)"
   ]
  },
  {
   "cell_type": "code",
   "execution_count": null,
   "metadata": {},
   "outputs": [],
   "source": []
  }
 ],
 "metadata": {
  "kernelspec": {
   "display_name": "Python 3",
   "language": "python",
   "name": "python3"
  },
  "language_info": {
   "codemirror_mode": {
    "name": "ipython",
    "version": 3
   },
   "file_extension": ".py",
   "mimetype": "text/x-python",
   "name": "python",
   "nbconvert_exporter": "python",
   "pygments_lexer": "ipython3",
   "version": "3.7.1"
  }
 },
 "nbformat": 4,
 "nbformat_minor": 2
}
